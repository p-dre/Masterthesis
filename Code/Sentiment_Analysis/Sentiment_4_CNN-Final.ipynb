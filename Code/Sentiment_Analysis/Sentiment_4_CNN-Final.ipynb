{
 "cells": [
  {
   "cell_type": "code",
   "execution_count": null,
   "metadata": {},
   "outputs": [],
   "source": [
    "\"\"\"\"\n",
    "Finales Modell wird geschätzt - Parameter auf Grundlage des Hyperparametertrainings\n",
    "Zusammenfassung:\n",
    "- Trainingsdatensatz wird geladen\n",
    "- Ein Tokenizer geschätzt\n",
    "- Datensatz wird in einem Trainings- und Validerungsdatensatz geteilt\n",
    "- Oversampling wird durchgeführt\n",
    "- Y Daten werden faktorisiert\n",
    "- Für alle Daten wird ein 4-D Tensor erstellt\n",
    "- Netz wird definiert\n",
    "- Netz wird trainiert und Daten werden gespeichert\n",
    "- Mit dem trainerten Netz wird der Testsatensatz geschätzt\n",
    "\n",
    "env: tf-gpu\n",
    "\n",
    "Auführen mit:\n",
    "Jupyter Notebook\n",
    "\n",
    "Eingabe: Tweets_final_corpus_sentiment_clean_test.json\n",
    "\n",
    "Ausgabe:\n",
    "Ergebnis finales  CNN und Test-Accuracy\n",
    "\n",
    "@author: Paul Drecker\n",
    "\n",
    "\"\"\""
   ]
  },
  {
   "cell_type": "code",
   "execution_count": null,
   "metadata": {},
   "outputs": [],
   "source": [
    "# Tensorboard laden - je nach Browserversion keine Darstellung im jupyter möglich - öffnen über cmd\n",
    "%load_ext tensorboard"
   ]
  },
  {
   "cell_type": "code",
   "execution_count": null,
   "metadata": {},
   "outputs": [],
   "source": [
    "#Laden der Pakete\n",
    "import tensorflow.keras.layers\n",
    "import datetime\n",
    "import tensorflow as tf\n",
    "import keras\n",
    "import pandas as pd\n",
    "import os\n",
    "import numpy as np\n",
    "import pickle\n",
    "from sklearn.model_selection import train_test_split\n",
    "from nltk.tokenize.treebank import TreebankWordDetokenizer\n",
    "from tensorflow.keras.layers.experimental.preprocessing import TextVectorization\n",
    "from tensorflow.keras import Model, Sequential\n",
    "from tensorflow.keras.layers import Activation, Dense, Embedding, GlobalAveragePooling1D\n",
    "from tensorboard.plugins.hparams import api as hp\n",
    "from imblearn.over_sampling import RandomOverSampler"
   ]
  },
  {
   "cell_type": "code",
   "execution_count": null,
   "metadata": {},
   "outputs": [],
   "source": [
    "# working directory auf den Ordner Masterarbeit festlegen\n",
    "os.chdir(r'C:\\Users\\Paul\\Documents\\Uni\\Masterarbeit\\Final_Code\\Masterarbeit')"
   ]
  },
  {
   "cell_type": "code",
   "execution_count": null,
   "metadata": {},
   "outputs": [],
   "source": [
    "#Daten Laden\n",
    "Tweets_final_clean = pd.read_json(os.getcwd() + r\"\\Datengewinnung\\Trainingsdaten\\Tweets_final_corpus_sentiment_clean_train.json\")"
   ]
  },
  {
   "cell_type": "code",
   "execution_count": null,
   "metadata": {},
   "outputs": [],
   "source": [
    "# Tokenizer auf den Trainigsdatensatz anpassen\n",
    "token = tf.keras.preprocessing.text.Tokenizer(num_words=10000,oov_token='<UNK>' )\n",
    "token.fit_on_texts(Tweets_final_clean['x_train'])"
   ]
  },
  {
   "cell_type": "code",
   "execution_count": null,
   "metadata": {},
   "outputs": [],
   "source": [
    "# Tokenizer anwenden\n",
    "Tweets_text = token.texts_to_sequences(Tweets_final_clean['x_train'])"
   ]
  },
  {
   "cell_type": "code",
   "execution_count": null,
   "metadata": {},
   "outputs": [],
   "source": [
    "# Alle Tweets in eine Länge bringen\n",
    "Tweets_text = tf.keras.preprocessing.sequence.pad_sequences(Tweets_text, maxlen=20, padding='post')"
   ]
  },
  {
   "cell_type": "code",
   "execution_count": null,
   "metadata": {},
   "outputs": [],
   "source": [
    "# In Trainings- und Validerungsdatensatz aufteilen\n",
    "X_train, X_test, y_train, y_test = train_test_split(Tweets_text,Tweets_final_clean['y_train'], test_size=0.2, random_state=123,stratify=Tweets_final_clean['y_train'], shuffle=True)"
   ]
  },
  {
   "cell_type": "code",
   "execution_count": null,
   "metadata": {},
   "outputs": [],
   "source": [
    "# Oversampling durchführen - zufallsbasiert\n",
    "oversample = RandomOverSampler(sampling_strategy='auto',random_state=123)\n",
    "X_train_over, y_train_over = oversample.fit_resample(X_train, y_train)\n",
    "sample_text = pd.DataFrame(X_train_over, y_train_over).sample(frac=1).reset_index(drop=False)"
   ]
  },
  {
   "cell_type": "code",
   "execution_count": null,
   "metadata": {},
   "outputs": [],
   "source": [
    "# Traindatensätze umbenenen \n",
    "y_train_over = sample_text['y_train']\n",
    "del(sample_text['y_train'])\n",
    "X_train_over = sample_text.to_numpy()"
   ]
  },
  {
   "cell_type": "code",
   "execution_count": null,
   "metadata": {},
   "outputs": [],
   "source": [
    "# Labels Faktorisieren\n",
    "y_train = pd.factorize(y_train_over)\n",
    "y_train =  tf.constant(y_train[0] , dtype = tf.float32)\n",
    "y_train =  tf.expand_dims(y_train, 1)\n",
    "\n",
    "# Labels Faktorisieren\n",
    "y_test = pd.factorize(y_test)\n",
    "y_test =  tf.constant(y_test[0] , dtype = tf.float32)\n",
    "y_test =  tf.expand_dims(y_test, 1)\n",
    "\n",
    "# In Kategorievariablen umwandeln\n",
    "y_test = tf.keras.utils.to_categorical(y_test)\n",
    "y_train = tf.keras.utils.to_categorical(y_train)\n",
    "\n",
    "\n",
    "# Für Trainingsdaten 3-D Tensor erstellen\n",
    "X_train_3dtensor = tf.stack(list(X_train_over), axis=0)\n",
    "X_train_3dtensor.get_shape()\n",
    "X_train = None\n",
    "del(X_train)\n",
    "# Für Trainingsdaten 4-D Tensor erstellen\n",
    "X_train_4dtensor = tf.expand_dims(X_train_3dtensor, -1) \n",
    "X_train_4dtensor.get_shape()\n",
    "\n",
    "# Für Validerungssdaten 3-D Tensor erstellen\n",
    "X_test_3dtensor = tf.stack(list(X_test), axis=0)\n",
    "X_test = None\n",
    "del(X_test)\n",
    "# Für Validerungssdaten 4-D Tensor erstellen\n",
    "X_test_4dtensor = tf.expand_dims(X_test_3dtensor, -1) \n",
    "\n",
    "\n"
   ]
  },
  {
   "cell_type": "code",
   "execution_count": null,
   "metadata": {},
   "outputs": [],
   "source": [
    "# Gespeicherte Modelle in der Session löschen - vermeiden von doppelten Strukturen\n",
    "tf.keras.backend.clear_session()"
   ]
  },
  {
   "cell_type": "code",
   "execution_count": null,
   "metadata": {},
   "outputs": [],
   "source": [
    "# Modell wird definiert\n",
    "# Filtergößen festlegen\n",
    "filter_sizes=[3,4,5]\n",
    "\n",
    "# Embedding Schicht\n",
    "input_layer = tf.keras.layers.Input(shape=(20,1,), name=\"input_layer\")\n",
    "emb_layer = tf.keras.layers.Embedding(10000, 300)(input_layer)\n",
    "emb_trans = tf.transpose(emb_layer,[0,1,3,2])\n",
    "emb = tf.squeeze(emb_trans, 3)\n",
    "emb = tf.transpose(emb,[0,2,1])\n",
    "\n",
    "# Convolution Schicht\n",
    "con_3 = tf.keras.layers.Conv1D(120, (filter_sizes[0]))(emb)\n",
    "relu_3 =tf.keras.layers.ReLU()(con_3 )\n",
    "\n",
    "con_4 = tf.keras.layers.Conv1D(120, (filter_sizes[1]))(emb)\n",
    "relu_4 =tf.keras.layers.ReLU()(con_4 )\n",
    "\n",
    "con_5 = tf.keras.layers.Conv1D(120, (filter_sizes[2]))(emb)\n",
    "relu_5 =tf.keras.layers.ReLU()(con_5 )\n",
    "\n",
    "# Maxpooling\n",
    "max_3 = tf.keras.layers.MaxPool1D(pool_size=(con_3.get_shape()[1]) ,strides=(1), padding='valid')(relu_3)\n",
    "max_4 = tf.keras.layers.MaxPool1D(pool_size=(con_4.get_shape()[1] ),strides=(1), padding='valid')(relu_4)\n",
    "max_5 = tf.keras.layers.MaxPool1D(pool_size=(con_5.get_shape()[1]),strides=(1), padding='valid')(relu_5)\n",
    "\n",
    "# Flatting\n",
    "merged = tf.keras.layers.Concatenate(axis=1)([max_3,max_4, max_5])\n",
    "flatten = tf.keras.layers.Flatten()(merged)\n",
    "\n",
    "# Dropout Schicht\n",
    "dropout = tf.keras.layers.Dropout(0.5)(flatten)\n",
    "\n",
    "# Dense Schicht und Softmatrix\n",
    "dense_layer = tf.keras.layers.Dense(units=2, name=\"dense_layer\", kernel_regularizer=tf.keras.regularizers.l2(0.0001))(dropout)\n",
    "output_layer = tf.keras.layers.Softmax(name=\"output_layer\")(dense_layer)\n",
    "model = tf.keras.models.Model(input_layer, output_layer, name=\"model\")\n",
    "model.compile(loss=tf.keras.losses.BinaryCrossentropy(),\n",
    "              optimizer=tf.keras.optimizers.Adam(0.0001),\n",
    "              metrics=[tf.keras.metrics.BinaryAccuracy()])\n",
    "\n",
    "\n",
    "model.summary()\n",
    "    \n",
    "    "
   ]
  },
  {
   "cell_type": "code",
   "execution_count": null,
   "metadata": {
    "scrolled": true
   },
   "outputs": [],
   "source": [
    "# Speicher festlegen\n",
    "logdir = os.getcwd() +'\\Sentiment_model\\CNN-final/logs/'\n",
    "session_num = 0\n",
    "\n",
    "logs = os.getcwd() +'\\Sentiment_model\\CNN-final/logs/fit/' \n",
    "#Training\n",
    "model.fit(X_train_4dtensor, y_train, epochs=6,shuffle=True,verbose=1,validation_data=(X_test_4dtensor, y_test)  ,batch_size= 32 ,callbacks=[\n",
    "        \n",
    "        tf.keras.callbacks.TensorBoard(\n",
    "        log_dir=logs, histogram_freq=1, write_graph=True,\n",
    "        write_images=False, update_freq='epoch', profile_batch=2,\n",
    "        embeddings_freq=1, embeddings_metadata=None)\n",
    "           ]) \n",
    "    \n",
    "\n",
    "\n"
   ]
  },
  {
   "cell_type": "code",
   "execution_count": null,
   "metadata": {
    "scrolled": true
   },
   "outputs": [],
   "source": [
    "# Testdatensatz laden\n",
    "Final_test = pd.read_json(os.getcwd() + r\"\\Datengewinnung\\Trainingsdaten\\Tweets_final_corpus_sentiment_clean_test.json\")\n",
    "# Tokenizer anwenden - Dieser wurde auf Basis der Trainingsdaten bestimmt\n",
    "Final_test_x = token.texts_to_sequences(Final_test['x_test'])\n",
    "# Alle Tweets in eine Länge bringen\n",
    "Final_test_x = tf.keras.preprocessing.sequence.pad_sequences(Final_test_x, maxlen=20, padding='post')\n",
    "# Labels Faktorisieren\n",
    "y_test_final = pd.factorize(Final_test['y_test'])\n"
   ]
  },
  {
   "cell_type": "code",
   "execution_count": null,
   "metadata": {},
   "outputs": [],
   "source": [
    "y_test_final  =  tf.constant(y_test_final[0] , dtype = tf.float32)\n",
    "y_test_final  =  tf.expand_dims(y_test_final, 1)\n",
    "y_test_final  = tf.keras.utils.to_categorical(y_test_final)\n",
    " \n",
    "# Für Testdaten 3-D Tensor erstellen\n",
    "X_test_3dtensor_final = tf.stack(list(Final_test_x), axis=0)\n",
    "X_test = None\n",
    "del(X_test)\n",
    "# Für Testdaten 4-D Tensor erstellen\n",
    "X_test_4dtensor_final = tf.expand_dims(X_test_3dtensor_final, -1) \n"
   ]
  },
  {
   "cell_type": "code",
   "execution_count": null,
   "metadata": {},
   "outputs": [],
   "source": [
    "#Modell auf Testdaten anwenden\n",
    "model.evaluate(X_test_4dtensor_final, y_test_final)"
   ]
  },
  {
   "cell_type": "code",
   "execution_count": null,
   "metadata": {},
   "outputs": [],
   "source": []
  }
 ],
 "metadata": {
  "kernelspec": {
   "display_name": "Python 3",
   "language": "python",
   "name": "python3"
  },
  "language_info": {
   "codemirror_mode": {
    "name": "ipython",
    "version": 3
   },
   "file_extension": ".py",
   "mimetype": "text/x-python",
   "name": "python",
   "nbconvert_exporter": "python",
   "pygments_lexer": "ipython3",
   "version": "3.8.5"
  }
 },
 "nbformat": 4,
 "nbformat_minor": 4
}
