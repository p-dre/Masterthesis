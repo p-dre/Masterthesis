{
 "cells": [
  {
   "cell_type": "code",
   "execution_count": 1,
   "metadata": {},
   "outputs": [
    {
     "data": {
      "text/plain": [
       "'\"\\nFinales Modell wird geschätzt - Parameter auf Grundlage des Hyperparametertrainings\\nZusammenfassung:\\n- Trainingsdatensatz wird geladen\\n- Ein Tokenizer geschätzt\\n- Datensatz wird in einem Trainings- und Validerungsdatensatz geteilt\\n- Oversampling wird durchgeführt\\n- Y Daten werden faktorisiert\\n- Für alle Daten wird ein 4-D Tensor erstellt\\n- Netz wird definiert\\n- Netz wird trainiert und Daten werden gespeichert\\n- Mit dem trainerten Netz wird der Testsatensatz geschätzt\\n\\nenv: tf-gpu\\n\\nAuführen mit:\\nJupyter Notebook\\n\\nEingabe: Tweets_final_corpus_sentiment_clean_test.json\\n\\nAusgabe:\\nErgebnis finales  LSTM-CNN und Test-Accuracy\\n\\n@author: Paul Drecker\\n\\n'"
      ]
     },
     "execution_count": 1,
     "metadata": {},
     "output_type": "execute_result"
    }
   ],
   "source": [
    "\"\"\"\"\n",
    "Finales Modell wird geschätzt - Parameter auf Grundlage des Hyperparametertrainings\n",
    "Zusammenfassung:\n",
    "- Trainingsdatensatz wird geladen\n",
    "- Ein Tokenizer geschätzt\n",
    "- Datensatz wird in einem Trainings- und Validerungsdatensatz geteilt\n",
    "- Oversampling wird durchgeführt\n",
    "- Y Daten werden faktorisiert\n",
    "- Für alle Daten wird ein 4-D Tensor erstellt\n",
    "- Netz wird definiert\n",
    "- Netz wird trainiert und Daten werden gespeichert\n",
    "- Mit dem trainerten Netz wird der Testsatensatz geschätzt\n",
    "\n",
    "env: tf-gpu\n",
    "\n",
    "Auführen mit:\n",
    "Jupyter Notebook\n",
    "\n",
    "Eingabe: Tweets_final_corpus_sentiment_clean_test.json\n",
    "\n",
    "Ausgabe:\n",
    "Ergebnis finales  LSTM-CNN und Test-Accuracy\n",
    "\n",
    "@author: Paul Drecker\n",
    "\n",
    "\"\"\""
   ]
  },
  {
   "cell_type": "code",
   "execution_count": 2,
   "metadata": {},
   "outputs": [],
   "source": [
    "# Tensorboard laden - je nach Browserversion keine Darstellung im jupyter möglich - öffnen über cmd\n",
    "%load_ext tensorboard"
   ]
  },
  {
   "cell_type": "code",
   "execution_count": 3,
   "metadata": {},
   "outputs": [],
   "source": [
    "#Laden der Pakete\n",
    "import tensorflow.keras.layers\n",
    "import datetime\n",
    "import tensorflow as tf\n",
    "import keras\n",
    "import pandas as pd\n",
    "import os\n",
    "import numpy as np\n",
    "import pickle\n",
    "from sklearn.model_selection import train_test_split\n",
    "from nltk.tokenize.treebank import TreebankWordDetokenizer\n",
    "from tensorflow.keras.layers.experimental.preprocessing import TextVectorization\n",
    "from tensorflow.keras import Model, Sequential\n",
    "from tensorflow.keras.layers import Activation, Dense, Embedding, GlobalAveragePooling1D\n",
    "from tensorboard.plugins.hparams import api as hp\n",
    "from imblearn.over_sampling import RandomOverSampler"
   ]
  },
  {
   "cell_type": "code",
   "execution_count": 4,
   "metadata": {},
   "outputs": [],
   "source": [
    "# working directory auf den Ordner Masterarbeit festlegen\n",
    "os.chdir(r'C:\\Users\\Paul\\Documents\\Uni\\Masterarbeit\\Final_Code\\Masterarbeit')"
   ]
  },
  {
   "cell_type": "code",
   "execution_count": 5,
   "metadata": {},
   "outputs": [],
   "source": [
    "#Daten Laden\n",
    "Tweets_final_clean = pd.read_json(os.getcwd() + r\"\\Datengewinnung\\Trainingsdaten\\Tweets_final_corpus_sentiment_clean_train.json\")"
   ]
  },
  {
   "cell_type": "code",
   "execution_count": 6,
   "metadata": {},
   "outputs": [],
   "source": [
    "# Tokenizer auf den Trainigsdatensatz anpassen\n",
    "token = tf.keras.preprocessing.text.Tokenizer(num_words=10000,oov_token='<UNK>' )\n",
    "token.fit_on_texts(Tweets_final_clean['x_train'])"
   ]
  },
  {
   "cell_type": "code",
   "execution_count": 7,
   "metadata": {},
   "outputs": [],
   "source": [
    "# Tokenizer anwenden\n",
    "Tweets_text = token.texts_to_sequences(Tweets_final_clean['x_train'])"
   ]
  },
  {
   "cell_type": "code",
   "execution_count": 8,
   "metadata": {},
   "outputs": [],
   "source": [
    "# Alle Tweets in eine Länge bringen\n",
    "Tweets_text = tf.keras.preprocessing.sequence.pad_sequences(Tweets_text, maxlen=20, padding='post')"
   ]
  },
  {
   "cell_type": "code",
   "execution_count": 9,
   "metadata": {},
   "outputs": [],
   "source": [
    "# In Trainings- und Validerungsdatensatz aufteilen\n",
    "X_train, X_test, y_train, y_test = train_test_split(Tweets_text,Tweets_final_clean['y_train'], test_size=0.2, random_state=123,stratify=Tweets_final_clean['y_train'], shuffle=True)"
   ]
  },
  {
   "cell_type": "code",
   "execution_count": 10,
   "metadata": {},
   "outputs": [],
   "source": [
    "# Oversampling durchführen - zufallsbasiert\n",
    "oversample = RandomOverSampler(sampling_strategy='auto',random_state=123)\n",
    "X_train_over, y_train_over = oversample.fit_resample(X_train, y_train)\n",
    "sample_text = pd.DataFrame(X_train_over, y_train_over).sample(frac=1).reset_index(drop=False)"
   ]
  },
  {
   "cell_type": "code",
   "execution_count": 11,
   "metadata": {},
   "outputs": [],
   "source": [
    "# Traindatensätze umbenenen \n",
    "y_train_over = sample_text['y_train']\n",
    "del(sample_text['y_train'])\n",
    "X_train_over = sample_text.to_numpy()"
   ]
  },
  {
   "cell_type": "code",
   "execution_count": 12,
   "metadata": {},
   "outputs": [],
   "source": [
    "# Labels Faktorisieren\n",
    "y_train = pd.factorize(y_train_over)\n",
    "y_train =  tf.constant(y_train[0] , dtype = tf.float32)\n",
    "y_train =  tf.expand_dims(y_train, 1)\n",
    "\n",
    "# Labels Faktorisieren\n",
    "y_test = pd.factorize(y_test)\n",
    "y_test =  tf.constant(y_test[0] , dtype = tf.float32)\n",
    "y_test =  tf.expand_dims(y_test, 1)\n",
    "\n",
    "# In Kategorievariablen umwandeln\n",
    "y_test = tf.keras.utils.to_categorical(y_test)\n",
    "y_train = tf.keras.utils.to_categorical(y_train)\n",
    "\n",
    "\n",
    "# Für Trainingsdaten 3-D Tensor erstellen\n",
    "X_train_3dtensor = tf.stack(list(X_train_over), axis=0)\n",
    "X_train_3dtensor.get_shape()\n",
    "X_train = None\n",
    "del(X_train)\n",
    "# Für Trainingsdaten 4-D Tensor erstellen\n",
    "X_train_4dtensor = tf.expand_dims(X_train_3dtensor, -1) \n",
    "X_train_4dtensor.get_shape()\n",
    "\n",
    "# Für Validerungssdaten 3-D Tensor erstellen\n",
    "X_test_3dtensor = tf.stack(list(X_test), axis=0)\n",
    "X_test = None\n",
    "del(X_test)\n",
    "# Für Validerungssdaten 4-D Tensor erstellen\n",
    "X_test_4dtensor = tf.expand_dims(X_test_3dtensor, -1) \n"
   ]
  },
  {
   "cell_type": "code",
   "execution_count": 13,
   "metadata": {},
   "outputs": [],
   "source": [
    "# Gespeicherte Modelle in der Session löschen - vermeiden von doppelten Strukturen\n",
    "tf.keras.backend.clear_session()"
   ]
  },
  {
   "cell_type": "code",
   "execution_count": 14,
   "metadata": {},
   "outputs": [
    {
     "name": "stdout",
     "output_type": "stream",
     "text": [
      "Model: \"model\"\n",
      "__________________________________________________________________________________________________\n",
      "Layer (type)                    Output Shape         Param #     Connected to                     \n",
      "==================================================================================================\n",
      "input_layer (InputLayer)        [(None, 20, 1)]      0                                            \n",
      "__________________________________________________________________________________________________\n",
      "embedding (Embedding)           (None, 20, 1, 300)   3000000     input_layer[0][0]                \n",
      "__________________________________________________________________________________________________\n",
      "tf_op_layer_Transpose (TensorFl [(None, 20, 300, 1)] 0           embedding[0][0]                  \n",
      "__________________________________________________________________________________________________\n",
      "tf_op_layer_Squeeze (TensorFlow [(None, 20, 300)]    0           tf_op_layer_Transpose[0][0]      \n",
      "__________________________________________________________________________________________________\n",
      "lstm (LSTM)                     (None, 20)           25680       tf_op_layer_Squeeze[0][0]        \n",
      "__________________________________________________________________________________________________\n",
      "tf_op_layer_ExpandDims (TensorF [(None, 20, 1)]      0           lstm[0][0]                       \n",
      "__________________________________________________________________________________________________\n",
      "conv1d (Conv1D)                 (None, 18, 120)      480         tf_op_layer_ExpandDims[0][0]     \n",
      "__________________________________________________________________________________________________\n",
      "conv1d_1 (Conv1D)               (None, 17, 120)      600         tf_op_layer_ExpandDims[0][0]     \n",
      "__________________________________________________________________________________________________\n",
      "conv1d_2 (Conv1D)               (None, 16, 120)      720         tf_op_layer_ExpandDims[0][0]     \n",
      "__________________________________________________________________________________________________\n",
      "re_lu (ReLU)                    (None, 18, 120)      0           conv1d[0][0]                     \n",
      "__________________________________________________________________________________________________\n",
      "re_lu_1 (ReLU)                  (None, 17, 120)      0           conv1d_1[0][0]                   \n",
      "__________________________________________________________________________________________________\n",
      "re_lu_2 (ReLU)                  (None, 16, 120)      0           conv1d_2[0][0]                   \n",
      "__________________________________________________________________________________________________\n",
      "max_pooling1d (MaxPooling1D)    (None, 1, 120)       0           re_lu[0][0]                      \n",
      "__________________________________________________________________________________________________\n",
      "max_pooling1d_1 (MaxPooling1D)  (None, 1, 120)       0           re_lu_1[0][0]                    \n",
      "__________________________________________________________________________________________________\n",
      "max_pooling1d_2 (MaxPooling1D)  (None, 1, 120)       0           re_lu_2[0][0]                    \n",
      "__________________________________________________________________________________________________\n",
      "concatenate (Concatenate)       (None, 3, 120)       0           max_pooling1d[0][0]              \n",
      "                                                                 max_pooling1d_1[0][0]            \n",
      "                                                                 max_pooling1d_2[0][0]            \n",
      "__________________________________________________________________________________________________\n",
      "flatten (Flatten)               (None, 360)          0           concatenate[0][0]                \n",
      "__________________________________________________________________________________________________\n",
      "dropout (Dropout)               (None, 360)          0           flatten[0][0]                    \n",
      "__________________________________________________________________________________________________\n",
      "dense_layer_4 (Dense)           (None, 2)            722         dropout[0][0]                    \n",
      "__________________________________________________________________________________________________\n",
      "output_layer (Softmax)          (None, 2)            0           dense_layer_4[0][0]              \n",
      "==================================================================================================\n",
      "Total params: 3,028,202\n",
      "Trainable params: 3,028,202\n",
      "Non-trainable params: 0\n",
      "__________________________________________________________________________________________________\n"
     ]
    }
   ],
   "source": [
    "# Modell wird definiert\n",
    "# Filtergößen festlegen\n",
    "    \n",
    "filter_sizes = [3,4,5]\n",
    "\n",
    "# Embedding Schicht\n",
    "input_layer = tf.keras.layers.Input(shape=(20,1,), name=\"input_layer\")\n",
    "emb_layer = tf.keras.layers.Embedding(10000, 300)(input_layer)\n",
    "emb = tf.transpose(emb_layer,[0,1,3,2])\n",
    "emb = tf.squeeze(emb,axis=-1)\n",
    "\n",
    "#LSTM Schicht\n",
    "lstm = tf.keras.layers.LSTM(20)(emb)\n",
    "lstm = tf.expand_dims(lstm, -1)\n",
    "\n",
    "# Convolution Schicht\n",
    "con_3 = tf.keras.layers.Conv1D(120, (filter_sizes[0]))(lstm)\n",
    "relu_3 =tf.keras.layers.ReLU()(con_3 )\n",
    "\n",
    "con_4 = tf.keras.layers.Conv1D(120, (filter_sizes[1]))(lstm)\n",
    "relu_4 =tf.keras.layers.ReLU()(con_4 )\n",
    "\n",
    "con_5 = tf.keras.layers.Conv1D(120, (filter_sizes[2]))(lstm)\n",
    "relu_5 =tf.keras.layers.ReLU()(con_5 )\n",
    "\n",
    "\n",
    "# Maxpooling\n",
    "max_3 = tf.keras.layers.MaxPool1D(pool_size=(con_3.get_shape()[1]),\n",
    "                          strides=1,\n",
    "                          padding='valid')(relu_3)\n",
    "\n",
    "max_4 = tf.keras.layers.MaxPool1D(pool_size=(con_4.get_shape()[1]),\n",
    "                          strides=1,\n",
    "                          padding='valid')(relu_4)\n",
    "\n",
    "max_5 = tf.keras.layers.MaxPool1D(pool_size=(con_5.get_shape()[1]), \n",
    "                          strides=1,\n",
    "                          padding='valid')(relu_5)\n",
    "\n",
    "# Flatting\n",
    "merged = tf.keras.layers.Concatenate(axis=1)([max_3,max_4, max_5])\n",
    "flatten = tf.keras.layers.Flatten()(merged)\n",
    "\n",
    "# Dropout Schicht\n",
    "dropout = tf.keras.layers.Dropout(0.5)(flatten)\n",
    "\n",
    "# Dense Schicht und Softmatrix\n",
    "dense_layer = tf.keras.layers.Dense(units=2, name=\"dense_layer_4\", kernel_regularizer=tf.keras.regularizers.l2(0.0001))(dropout)\n",
    "output_layer = tf.keras.layers.Softmax(name=\"output_layer\")(dense_layer)\n",
    "model = tf.keras.models.Model(input_layer, output_layer, name=\"model\")\n",
    "model.compile(loss=tf.keras.losses.BinaryCrossentropy(), \n",
    "              optimizer=tf.keras.optimizers.Adam(lr=0.00001),\n",
    "           metrics=[tf.keras.metrics.BinaryAccuracy()])\n",
    "\n",
    "\n",
    "model.summary()\n",
    "    \n",
    "    "
   ]
  },
  {
   "cell_type": "code",
   "execution_count": 15,
   "metadata": {
    "scrolled": true
   },
   "outputs": [
    {
     "name": "stdout",
     "output_type": "stream",
     "text": [
      "Epoch 1/4\n",
      "  1/732 [..............................] - ETA: 0s - loss: 0.6928 - binary_accuracy: 0.5625WARNING:tensorflow:From C:\\Users\\Paul\\AppData\\Roaming\\Python\\Python38\\site-packages\\tensorflow\\python\\ops\\summary_ops_v2.py:1277: stop (from tensorflow.python.eager.profiler) is deprecated and will be removed after 2020-07-01.\n",
      "Instructions for updating:\n",
      "use `tf.profiler.experimental.stop` instead.\n",
      "  2/732 [..............................] - ETA: 45s - loss: 0.6928 - binary_accuracy: 0.5469WARNING:tensorflow:Callbacks method `on_train_batch_end` is slow compared to the batch time (batch time: 0.0430s vs `on_train_batch_end` time: 0.0820s). Check your callbacks.\n",
      "  4/732 [..............................] - ETA: 38s - loss: 0.6930 - binary_accuracy: 0.5547"
     ]
    },
    {
     "ename": "KeyboardInterrupt",
     "evalue": "",
     "output_type": "error",
     "traceback": [
      "\u001b[1;31m---------------------------------------------------------------------------\u001b[0m",
      "\u001b[1;31mKeyboardInterrupt\u001b[0m                         Traceback (most recent call last)",
      "\u001b[1;32m<ipython-input-15-a2f495dd28be>\u001b[0m in \u001b[0;36m<module>\u001b[1;34m\u001b[0m\n\u001b[0;32m      4\u001b[0m \u001b[1;33m\u001b[0m\u001b[0m\n\u001b[0;32m      5\u001b[0m \u001b[0mlogs\u001b[0m \u001b[1;33m=\u001b[0m \u001b[0mos\u001b[0m\u001b[1;33m.\u001b[0m\u001b[0mgetcwd\u001b[0m\u001b[1;33m(\u001b[0m\u001b[1;33m)\u001b[0m \u001b[1;33m+\u001b[0m\u001b[1;34m'\\Sentiment_model\\LSTM_CNN-final/logs/fit/'\u001b[0m\u001b[1;33m\u001b[0m\u001b[1;33m\u001b[0m\u001b[0m\n\u001b[1;32m----> 6\u001b[1;33m model.fit(X_train_4dtensor, y_train, epochs=4,shuffle=True,verbose=1,validation_data=(X_test_4dtensor, y_test)  ,batch_size= 32 ,callbacks=[\n\u001b[0m\u001b[0;32m      7\u001b[0m \u001b[1;33m\u001b[0m\u001b[0m\n\u001b[0;32m      8\u001b[0m         tf.keras.callbacks.TensorBoard(\n",
      "\u001b[1;32m~\\AppData\\Roaming\\Python\\Python38\\site-packages\\tensorflow\\python\\keras\\engine\\training.py\u001b[0m in \u001b[0;36m_method_wrapper\u001b[1;34m(self, *args, **kwargs)\u001b[0m\n\u001b[0;32m    106\u001b[0m   \u001b[1;32mdef\u001b[0m \u001b[0m_method_wrapper\u001b[0m\u001b[1;33m(\u001b[0m\u001b[0mself\u001b[0m\u001b[1;33m,\u001b[0m \u001b[1;33m*\u001b[0m\u001b[0margs\u001b[0m\u001b[1;33m,\u001b[0m \u001b[1;33m**\u001b[0m\u001b[0mkwargs\u001b[0m\u001b[1;33m)\u001b[0m\u001b[1;33m:\u001b[0m\u001b[1;33m\u001b[0m\u001b[1;33m\u001b[0m\u001b[0m\n\u001b[0;32m    107\u001b[0m     \u001b[1;32mif\u001b[0m \u001b[1;32mnot\u001b[0m \u001b[0mself\u001b[0m\u001b[1;33m.\u001b[0m\u001b[0m_in_multi_worker_mode\u001b[0m\u001b[1;33m(\u001b[0m\u001b[1;33m)\u001b[0m\u001b[1;33m:\u001b[0m  \u001b[1;31m# pylint: disable=protected-access\u001b[0m\u001b[1;33m\u001b[0m\u001b[1;33m\u001b[0m\u001b[0m\n\u001b[1;32m--> 108\u001b[1;33m       \u001b[1;32mreturn\u001b[0m \u001b[0mmethod\u001b[0m\u001b[1;33m(\u001b[0m\u001b[0mself\u001b[0m\u001b[1;33m,\u001b[0m \u001b[1;33m*\u001b[0m\u001b[0margs\u001b[0m\u001b[1;33m,\u001b[0m \u001b[1;33m**\u001b[0m\u001b[0mkwargs\u001b[0m\u001b[1;33m)\u001b[0m\u001b[1;33m\u001b[0m\u001b[1;33m\u001b[0m\u001b[0m\n\u001b[0m\u001b[0;32m    109\u001b[0m \u001b[1;33m\u001b[0m\u001b[0m\n\u001b[0;32m    110\u001b[0m     \u001b[1;31m# Running inside `run_distribute_coordinator` already.\u001b[0m\u001b[1;33m\u001b[0m\u001b[1;33m\u001b[0m\u001b[1;33m\u001b[0m\u001b[0m\n",
      "\u001b[1;32m~\\AppData\\Roaming\\Python\\Python38\\site-packages\\tensorflow\\python\\keras\\engine\\training.py\u001b[0m in \u001b[0;36mfit\u001b[1;34m(self, x, y, batch_size, epochs, verbose, callbacks, validation_split, validation_data, shuffle, class_weight, sample_weight, initial_epoch, steps_per_epoch, validation_steps, validation_batch_size, validation_freq, max_queue_size, workers, use_multiprocessing)\u001b[0m\n\u001b[0;32m   1096\u001b[0m                 batch_size=batch_size):\n\u001b[0;32m   1097\u001b[0m               \u001b[0mcallbacks\u001b[0m\u001b[1;33m.\u001b[0m\u001b[0mon_train_batch_begin\u001b[0m\u001b[1;33m(\u001b[0m\u001b[0mstep\u001b[0m\u001b[1;33m)\u001b[0m\u001b[1;33m\u001b[0m\u001b[1;33m\u001b[0m\u001b[0m\n\u001b[1;32m-> 1098\u001b[1;33m               \u001b[0mtmp_logs\u001b[0m \u001b[1;33m=\u001b[0m \u001b[0mtrain_function\u001b[0m\u001b[1;33m(\u001b[0m\u001b[0miterator\u001b[0m\u001b[1;33m)\u001b[0m\u001b[1;33m\u001b[0m\u001b[1;33m\u001b[0m\u001b[0m\n\u001b[0m\u001b[0;32m   1099\u001b[0m               \u001b[1;32mif\u001b[0m \u001b[0mdata_handler\u001b[0m\u001b[1;33m.\u001b[0m\u001b[0mshould_sync\u001b[0m\u001b[1;33m:\u001b[0m\u001b[1;33m\u001b[0m\u001b[1;33m\u001b[0m\u001b[0m\n\u001b[0;32m   1100\u001b[0m                 \u001b[0mcontext\u001b[0m\u001b[1;33m.\u001b[0m\u001b[0masync_wait\u001b[0m\u001b[1;33m(\u001b[0m\u001b[1;33m)\u001b[0m\u001b[1;33m\u001b[0m\u001b[1;33m\u001b[0m\u001b[0m\n",
      "\u001b[1;32m~\\AppData\\Roaming\\Python\\Python38\\site-packages\\tensorflow\\python\\eager\\def_function.py\u001b[0m in \u001b[0;36m__call__\u001b[1;34m(self, *args, **kwds)\u001b[0m\n\u001b[0;32m    778\u001b[0m       \u001b[1;32melse\u001b[0m\u001b[1;33m:\u001b[0m\u001b[1;33m\u001b[0m\u001b[1;33m\u001b[0m\u001b[0m\n\u001b[0;32m    779\u001b[0m         \u001b[0mcompiler\u001b[0m \u001b[1;33m=\u001b[0m \u001b[1;34m\"nonXla\"\u001b[0m\u001b[1;33m\u001b[0m\u001b[1;33m\u001b[0m\u001b[0m\n\u001b[1;32m--> 780\u001b[1;33m         \u001b[0mresult\u001b[0m \u001b[1;33m=\u001b[0m \u001b[0mself\u001b[0m\u001b[1;33m.\u001b[0m\u001b[0m_call\u001b[0m\u001b[1;33m(\u001b[0m\u001b[1;33m*\u001b[0m\u001b[0margs\u001b[0m\u001b[1;33m,\u001b[0m \u001b[1;33m**\u001b[0m\u001b[0mkwds\u001b[0m\u001b[1;33m)\u001b[0m\u001b[1;33m\u001b[0m\u001b[1;33m\u001b[0m\u001b[0m\n\u001b[0m\u001b[0;32m    781\u001b[0m \u001b[1;33m\u001b[0m\u001b[0m\n\u001b[0;32m    782\u001b[0m       \u001b[0mnew_tracing_count\u001b[0m \u001b[1;33m=\u001b[0m \u001b[0mself\u001b[0m\u001b[1;33m.\u001b[0m\u001b[0m_get_tracing_count\u001b[0m\u001b[1;33m(\u001b[0m\u001b[1;33m)\u001b[0m\u001b[1;33m\u001b[0m\u001b[1;33m\u001b[0m\u001b[0m\n",
      "\u001b[1;32m~\\AppData\\Roaming\\Python\\Python38\\site-packages\\tensorflow\\python\\eager\\def_function.py\u001b[0m in \u001b[0;36m_call\u001b[1;34m(self, *args, **kwds)\u001b[0m\n\u001b[0;32m    805\u001b[0m       \u001b[1;31m# In this case we have created variables on the first call, so we run the\u001b[0m\u001b[1;33m\u001b[0m\u001b[1;33m\u001b[0m\u001b[1;33m\u001b[0m\u001b[0m\n\u001b[0;32m    806\u001b[0m       \u001b[1;31m# defunned version which is guaranteed to never create variables.\u001b[0m\u001b[1;33m\u001b[0m\u001b[1;33m\u001b[0m\u001b[1;33m\u001b[0m\u001b[0m\n\u001b[1;32m--> 807\u001b[1;33m       \u001b[1;32mreturn\u001b[0m \u001b[0mself\u001b[0m\u001b[1;33m.\u001b[0m\u001b[0m_stateless_fn\u001b[0m\u001b[1;33m(\u001b[0m\u001b[1;33m*\u001b[0m\u001b[0margs\u001b[0m\u001b[1;33m,\u001b[0m \u001b[1;33m**\u001b[0m\u001b[0mkwds\u001b[0m\u001b[1;33m)\u001b[0m  \u001b[1;31m# pylint: disable=not-callable\u001b[0m\u001b[1;33m\u001b[0m\u001b[1;33m\u001b[0m\u001b[0m\n\u001b[0m\u001b[0;32m    808\u001b[0m     \u001b[1;32melif\u001b[0m \u001b[0mself\u001b[0m\u001b[1;33m.\u001b[0m\u001b[0m_stateful_fn\u001b[0m \u001b[1;32mis\u001b[0m \u001b[1;32mnot\u001b[0m \u001b[1;32mNone\u001b[0m\u001b[1;33m:\u001b[0m\u001b[1;33m\u001b[0m\u001b[1;33m\u001b[0m\u001b[0m\n\u001b[0;32m    809\u001b[0m       \u001b[1;31m# Release the lock early so that multiple threads can perform the call\u001b[0m\u001b[1;33m\u001b[0m\u001b[1;33m\u001b[0m\u001b[1;33m\u001b[0m\u001b[0m\n",
      "\u001b[1;32m~\\AppData\\Roaming\\Python\\Python38\\site-packages\\tensorflow\\python\\eager\\function.py\u001b[0m in \u001b[0;36m__call__\u001b[1;34m(self, *args, **kwargs)\u001b[0m\n\u001b[0;32m   2827\u001b[0m     \u001b[1;32mwith\u001b[0m \u001b[0mself\u001b[0m\u001b[1;33m.\u001b[0m\u001b[0m_lock\u001b[0m\u001b[1;33m:\u001b[0m\u001b[1;33m\u001b[0m\u001b[1;33m\u001b[0m\u001b[0m\n\u001b[0;32m   2828\u001b[0m       \u001b[0mgraph_function\u001b[0m\u001b[1;33m,\u001b[0m \u001b[0margs\u001b[0m\u001b[1;33m,\u001b[0m \u001b[0mkwargs\u001b[0m \u001b[1;33m=\u001b[0m \u001b[0mself\u001b[0m\u001b[1;33m.\u001b[0m\u001b[0m_maybe_define_function\u001b[0m\u001b[1;33m(\u001b[0m\u001b[0margs\u001b[0m\u001b[1;33m,\u001b[0m \u001b[0mkwargs\u001b[0m\u001b[1;33m)\u001b[0m\u001b[1;33m\u001b[0m\u001b[1;33m\u001b[0m\u001b[0m\n\u001b[1;32m-> 2829\u001b[1;33m     \u001b[1;32mreturn\u001b[0m \u001b[0mgraph_function\u001b[0m\u001b[1;33m.\u001b[0m\u001b[0m_filtered_call\u001b[0m\u001b[1;33m(\u001b[0m\u001b[0margs\u001b[0m\u001b[1;33m,\u001b[0m \u001b[0mkwargs\u001b[0m\u001b[1;33m)\u001b[0m  \u001b[1;31m# pylint: disable=protected-access\u001b[0m\u001b[1;33m\u001b[0m\u001b[1;33m\u001b[0m\u001b[0m\n\u001b[0m\u001b[0;32m   2830\u001b[0m \u001b[1;33m\u001b[0m\u001b[0m\n\u001b[0;32m   2831\u001b[0m   \u001b[1;33m@\u001b[0m\u001b[0mproperty\u001b[0m\u001b[1;33m\u001b[0m\u001b[1;33m\u001b[0m\u001b[0m\n",
      "\u001b[1;32m~\\AppData\\Roaming\\Python\\Python38\\site-packages\\tensorflow\\python\\eager\\function.py\u001b[0m in \u001b[0;36m_filtered_call\u001b[1;34m(self, args, kwargs, cancellation_manager)\u001b[0m\n\u001b[0;32m   1841\u001b[0m       \u001b[0;31m`\u001b[0m\u001b[0margs\u001b[0m\u001b[0;31m`\u001b[0m \u001b[1;32mand\u001b[0m\u001b[0;31m \u001b[0m\u001b[0;31m`\u001b[0m\u001b[0mkwargs\u001b[0m\u001b[0;31m`\u001b[0m\u001b[1;33m.\u001b[0m\u001b[1;33m\u001b[0m\u001b[1;33m\u001b[0m\u001b[0m\n\u001b[0;32m   1842\u001b[0m     \"\"\"\n\u001b[1;32m-> 1843\u001b[1;33m     return self._call_flat(\n\u001b[0m\u001b[0;32m   1844\u001b[0m         [t for t in nest.flatten((args, kwargs), expand_composites=True)\n\u001b[0;32m   1845\u001b[0m          if isinstance(t, (ops.Tensor,\n",
      "\u001b[1;32m~\\AppData\\Roaming\\Python\\Python38\\site-packages\\tensorflow\\python\\eager\\function.py\u001b[0m in \u001b[0;36m_call_flat\u001b[1;34m(self, args, captured_inputs, cancellation_manager)\u001b[0m\n\u001b[0;32m   1921\u001b[0m         and executing_eagerly):\n\u001b[0;32m   1922\u001b[0m       \u001b[1;31m# No tape is watching; skip to running the function.\u001b[0m\u001b[1;33m\u001b[0m\u001b[1;33m\u001b[0m\u001b[1;33m\u001b[0m\u001b[0m\n\u001b[1;32m-> 1923\u001b[1;33m       return self._build_call_outputs(self._inference_function.call(\n\u001b[0m\u001b[0;32m   1924\u001b[0m           ctx, args, cancellation_manager=cancellation_manager))\n\u001b[0;32m   1925\u001b[0m     forward_backward = self._select_forward_and_backward_functions(\n",
      "\u001b[1;32m~\\AppData\\Roaming\\Python\\Python38\\site-packages\\tensorflow\\python\\eager\\function.py\u001b[0m in \u001b[0;36mcall\u001b[1;34m(self, ctx, args, cancellation_manager)\u001b[0m\n\u001b[0;32m    543\u001b[0m       \u001b[1;32mwith\u001b[0m \u001b[0m_InterpolateFunctionError\u001b[0m\u001b[1;33m(\u001b[0m\u001b[0mself\u001b[0m\u001b[1;33m)\u001b[0m\u001b[1;33m:\u001b[0m\u001b[1;33m\u001b[0m\u001b[1;33m\u001b[0m\u001b[0m\n\u001b[0;32m    544\u001b[0m         \u001b[1;32mif\u001b[0m \u001b[0mcancellation_manager\u001b[0m \u001b[1;32mis\u001b[0m \u001b[1;32mNone\u001b[0m\u001b[1;33m:\u001b[0m\u001b[1;33m\u001b[0m\u001b[1;33m\u001b[0m\u001b[0m\n\u001b[1;32m--> 545\u001b[1;33m           outputs = execute.execute(\n\u001b[0m\u001b[0;32m    546\u001b[0m               \u001b[0mstr\u001b[0m\u001b[1;33m(\u001b[0m\u001b[0mself\u001b[0m\u001b[1;33m.\u001b[0m\u001b[0msignature\u001b[0m\u001b[1;33m.\u001b[0m\u001b[0mname\u001b[0m\u001b[1;33m)\u001b[0m\u001b[1;33m,\u001b[0m\u001b[1;33m\u001b[0m\u001b[1;33m\u001b[0m\u001b[0m\n\u001b[0;32m    547\u001b[0m               \u001b[0mnum_outputs\u001b[0m\u001b[1;33m=\u001b[0m\u001b[0mself\u001b[0m\u001b[1;33m.\u001b[0m\u001b[0m_num_outputs\u001b[0m\u001b[1;33m,\u001b[0m\u001b[1;33m\u001b[0m\u001b[1;33m\u001b[0m\u001b[0m\n",
      "\u001b[1;32m~\\AppData\\Roaming\\Python\\Python38\\site-packages\\tensorflow\\python\\eager\\execute.py\u001b[0m in \u001b[0;36mquick_execute\u001b[1;34m(op_name, num_outputs, inputs, attrs, ctx, name)\u001b[0m\n\u001b[0;32m     57\u001b[0m   \u001b[1;32mtry\u001b[0m\u001b[1;33m:\u001b[0m\u001b[1;33m\u001b[0m\u001b[1;33m\u001b[0m\u001b[0m\n\u001b[0;32m     58\u001b[0m     \u001b[0mctx\u001b[0m\u001b[1;33m.\u001b[0m\u001b[0mensure_initialized\u001b[0m\u001b[1;33m(\u001b[0m\u001b[1;33m)\u001b[0m\u001b[1;33m\u001b[0m\u001b[1;33m\u001b[0m\u001b[0m\n\u001b[1;32m---> 59\u001b[1;33m     tensors = pywrap_tfe.TFE_Py_Execute(ctx._handle, device_name, op_name,\n\u001b[0m\u001b[0;32m     60\u001b[0m                                         inputs, attrs, num_outputs)\n\u001b[0;32m     61\u001b[0m   \u001b[1;32mexcept\u001b[0m \u001b[0mcore\u001b[0m\u001b[1;33m.\u001b[0m\u001b[0m_NotOkStatusException\u001b[0m \u001b[1;32mas\u001b[0m \u001b[0me\u001b[0m\u001b[1;33m:\u001b[0m\u001b[1;33m\u001b[0m\u001b[1;33m\u001b[0m\u001b[0m\n",
      "\u001b[1;31mKeyboardInterrupt\u001b[0m: "
     ]
    }
   ],
   "source": [
    "# Speicher festlegen\n",
    "logdir = os.getcwd() +'\\Sentiment_model\\LSTM_CNN-final/logs/'\n",
    "session_num = 0\n",
    "\n",
    "logs = os.getcwd() +'\\Sentiment_model\\LSTM_CNN-final/logs/fit/' \n",
    "model.fit(X_train_4dtensor, y_train, epochs=4,shuffle=True,verbose=1,validation_data=(X_test_4dtensor, y_test)  ,batch_size= 32 ,callbacks=[\n",
    "        \n",
    "        tf.keras.callbacks.TensorBoard(\n",
    "        log_dir=logs, histogram_freq=1, write_graph=True,\n",
    "        write_images=False, update_freq='epoch', profile_batch=2,\n",
    "        embeddings_freq=1, embeddings_metadata=None)\n",
    "           ]) \n",
    "    \n",
    "\n",
    "\n"
   ]
  },
  {
   "cell_type": "code",
   "execution_count": 16,
   "metadata": {
    "scrolled": true
   },
   "outputs": [],
   "source": [
    "# Testdatensatz laden\n",
    "Final_test = pd.read_json(os.getcwd() + r\"\\Datengewinnung\\Trainingsdaten\\Tweets_final_corpus_sentiment_clean_test.json\")\n",
    "# Tokenizer anwenden - Dieser wurde auf Basis der Trainingsdaten bestimmt\n",
    "Final_test_x = token.texts_to_sequences(Final_test['x_test'])\n",
    "# Alle Tweets in eine Länge bringen\n",
    "Final_test_x = tf.keras.preprocessing.sequence.pad_sequences(Final_test_x, maxlen=20, padding='post')\n",
    "# Labels Faktorisieren\n",
    "y_test_final = pd.factorize(Final_test['y_test'])\n",
    "\n",
    "y_test_final  =  tf.constant(y_test_final[0] , dtype = tf.float32)\n",
    "y_test_final  =  tf.expand_dims(y_test_final, 1)\n",
    "y_test_final  = tf.keras.utils.to_categorical(y_test_final)\n",
    " \n",
    "# Für Testdaten 3-D Tensor erstellen\n",
    "X_test_3dtensor_final = tf.stack(list(Final_test_x), axis=0)\n",
    "X_test = None\n",
    "del(X_test)\n",
    "# Für Testdaten 4-D Tensor erstellen\n",
    "X_test_4dtensor_final = tf.expand_dims(X_test_3dtensor_final, -1) "
   ]
  },
  {
   "cell_type": "code",
   "execution_count": null,
   "metadata": {},
   "outputs": [],
   "source": [
    "#Modell auf Testdaten anwenden\n",
    "model.evaluate(X_test_4dtensor_final, y_test_final)"
   ]
  }
 ],
 "metadata": {
  "kernelspec": {
   "display_name": "Python 3",
   "language": "python",
   "name": "python3"
  },
  "language_info": {
   "codemirror_mode": {
    "name": "ipython",
    "version": 3
   },
   "file_extension": ".py",
   "mimetype": "text/x-python",
   "name": "python",
   "nbconvert_exporter": "python",
   "pygments_lexer": "ipython3",
   "version": "3.8.5"
  }
 },
 "nbformat": 4,
 "nbformat_minor": 4
}
