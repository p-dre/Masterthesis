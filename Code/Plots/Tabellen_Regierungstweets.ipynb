{
 "cells": [
  {
   "cell_type": "code",
   "execution_count": null,
   "metadata": {},
   "outputs": [],
   "source": [
    "\"\"\"\"\n",
    "Zusammenfassung:\n",
    "Es werden zwei Tabellen erstellt\n",
    "- Regierungsaccounts je Thema und Anzahl\n",
    "- Regierungsaccounts gesamtzanzahl an Tweets\n",
    "\n",
    "env: tf-gpu\n",
    "\n",
    "Auführen mit:\n",
    "Jupyter Notebook\n",
    "\n",
    "Eingabe: reg_tweets\n",
    "\n",
    "Ausgabe:\n",
    "Ergebnisse Hyperparametertraining CNN\n",
    "\n",
    "@author: Paul Drecker\n",
    "\n",
    "\"\"\""
   ]
  },
  {
   "cell_type": "code",
   "execution_count": 1,
   "metadata": {},
   "outputs": [],
   "source": [
    "import os\n",
    "import json\n",
    "import pickle\n",
    "import numpy as np\n",
    "import pandas as pd\n",
    "\n",
    "\n",
    "with open(r'C:\\Users\\Paul\\Documents\\Uni\\Masterarbeit\\Topic_new\\reg_tweets', 'rb') as fp:\n",
    "    reg_tweets = pickle.load(fp)     \n",
    "\n",
    "# Anzahl der Verbindungen zählen\n",
    "connections= connections = pd.DataFrame ( columns = ['From_To','topic'])\n",
    "for tweet in reg_tweets:    \n",
    "    connections = connections.append( {'From_To': str(tweet['user_screen_name']), 'topic': str(tweet['topic']), 'w':1},ignore_index=True)\n",
    "\n",
    "# Durch groupby summieren\n",
    "Count = pd.crosstab(connections ['From_To'], connections ['topic'])\n",
    "Count2= connections.groupby(['From_To','topic'], as_index=False).agg({ \"w\":\"sum\"})\n",
    "Count_accounts= connections.groupby(['From_To'], as_index=False).agg({ \"w\":\"sum\"})\n",
    "Counts_topic =  connections.groupby(['topic'], as_index=False).agg({ \"w\":\"sum\"})"
   ]
  },
  {
   "cell_type": "code",
   "execution_count": 2,
   "metadata": {},
   "outputs": [],
   "source": [
    "# Tabelle ausgeben\n",
    "Count_topic = Count2.sort_values('w',ascending = False).head(10)\n",
    "Count_topic.columns = ['Twitteraccounts', 'Thema', 'Anzahl']\n",
    "Count_topic.to_csv(r'C:\\Users\\Paul\\Documents\\Uni\\Masterarbeit\\Analyse_Regierung\\Count_topic.csv', index = False)"
   ]
  },
  {
   "cell_type": "code",
   "execution_count": 3,
   "metadata": {},
   "outputs": [],
   "source": [
    "# Tabelle ausgeben\n",
    "Count_accounts = Count_accounts.sort_values('w',ascending = False).head(10)\n",
    "Count_accounts.columns = ['Twitteraccounts',  'Anzahl']\n",
    "Count_accounts.to_csv(r'C:\\Users\\Paul\\Documents\\Uni\\Masterarbeit\\Analyse_Regierung\\Count_accounts.csv', index = False)"
   ]
  }
 ],
 "metadata": {
  "kernelspec": {
   "display_name": "Python 3",
   "language": "python",
   "name": "python3"
  },
  "language_info": {
   "codemirror_mode": {
    "name": "ipython",
    "version": 3
   },
   "file_extension": ".py",
   "mimetype": "text/x-python",
   "name": "python",
   "nbconvert_exporter": "python",
   "pygments_lexer": "ipython3",
   "version": "3.8.5"
  }
 },
 "nbformat": 4,
 "nbformat_minor": 4
}
