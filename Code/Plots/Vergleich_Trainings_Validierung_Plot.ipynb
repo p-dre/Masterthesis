{
 "cells": [
  {
   "cell_type": "code",
   "execution_count": null,
   "metadata": {},
   "outputs": [],
   "source": [
    "import pandas as pd\n",
    "import plotly.express as px\n",
    "import plotly.graph_objects as go\n",
    "\n",
    "# working directory auf den Ordner Masterarbeit festlegen\n",
    "os.chdir(r'C:\\Users\\Paul\\Documents\\Uni\\Masterarbeit\\Final_Code\\Masterarbeit')\n"
   ]
  },
  {
   "cell_type": "code",
   "execution_count": null,
   "metadata": {},
   "outputs": [],
   "source": [
    "# CNN_LSTM_train_one_model.csv und CNN_LSTM_validation_one_model.csv müssen aus Tensorboard runtergeladen werden\n",
    "\n",
    "train = pd.read_csv(os.getcwd() + r\"\\Datengewinnung\\Trainingsdaten\\CNN_LSTM_train_one_model.csv')\n",
    "val = pd.read_csv(os.getcwd() + r\"\\Datengewinnung\\Trainingsdaten\\CNN_LSTM_validation_one_model.csv')\n",
    "\n",
    "                  \n",
    "# Vergleich Trainings- Validierungs Accuracy                 \n",
    "fig = go.Figure()\n",
    "fig.add_trace(go.Scatter(x=train['Step'], y=train['Value'],\n",
    "                    mode='lines',\n",
    "                    name='Training'))\n",
    "fig.update_yaxes(\n",
    "        title_text = \"Accuracy\")\n",
    "\n",
    "fig.update_xaxes(\n",
    "        title_text = \"Epochen\")\n",
    "\n",
    "\n",
    "fig.add_trace(go.Scatter(x=val['Step'], y=val['Value'],\n",
    "                    mode='lines',\n",
    "                    name='Validierung'))\n",
    "\n",
    "fig.show()\n",
    "fig.write_image(os.getcwd() +\"\\CNN_LSTM_training.png\")"
   ]
  },
  {
   "cell_type": "code",
   "execution_count": null,
   "metadata": {},
   "outputs": [],
   "source": [
    "# LSTM_train_one_model.csv und LSTM_validation_one_model.csv müssen aus Tensorboard runtergeladen werden\n",
    "train = pd.read_csv(os.getcwd() + r\"\\Datengewinnung\\Trainingsdaten\\LSTM_train_one_model.csv')\n",
    "val = pd.read_csv(os.getcwd() + r\"\\Datengewinnung\\Trainingsdaten\\LSTM_validation_one_model.csv')\n",
    "\n",
    "                  \n",
    "                  \n",
    "# Vergleich Trainings- Validierungs Accuracy                  \n",
    "fig = go.Figure()\n",
    "fig.add_trace(go.Scatter(x=train['Step'], y=train['Value'],\n",
    "                    mode='lines',\n",
    "                    name='Training'))\n",
    "fig.update_yaxes(\n",
    "        title_text = \"Accuracy\")\n",
    "\n",
    "fig.update_xaxes(\n",
    "        title_text = \"Epochen\")\n",
    "\n",
    "\n",
    "fig.add_trace(go.Scatter(x=val['Step'], y=val['Value'],\n",
    "                    mode='lines',\n",
    "                    name='Validierung'))\n",
    "\n",
    "fig.show()\n",
    "fig.write_image(os.getcwd() + r\"\\Datengewinnung\\Trainingsdaten\\LSTM_training.png\")"
   ]
  },
  {
   "cell_type": "code",
   "execution_count": null,
   "metadata": {},
   "outputs": [],
   "source": [
    "# CNN_train_one_model.csv und CNN_validation_one_model.csv müssen aus Tensorboard runtergeladen werden\n",
    "train = pd.read_csv(os.getcwd() + r\"\\Datengewinnung\\Trainingsdaten\\CNN_train_one_model.csv')\n",
    "val = pd.read_csv(os.getcwd() + r\"\\Datengewinnung\\Trainingsdaten\\CNN_validation_one_model.csv')\n",
    "\n",
    "# Vergleich Trainings- Validierungs Accuracy\n",
    "fig = go.Figure()\n",
    "fig.add_trace(go.Scatter(x=train['Step'], y=train['Value'],\n",
    "                    mode='lines',\n",
    "                    name='Training'))\n",
    "fig.update_yaxes(\n",
    "        title_text = \"Accuracy\")\n",
    "\n",
    "fig.update_xaxes(\n",
    "        title_text = \"Epochen\")\n",
    "\n",
    "\n",
    "fig.add_trace(go.Scatter(x=val['Step'], y=val['Value'],\n",
    "                    mode='lines',\n",
    "                    name='Validierung'))\n",
    "\n",
    "fig.show()\n",
    "fig.write_image(os.getcwd() + r\"\\Datengewinnung\\Trainingsdaten\\CNN_training.png\")"
   ]
  },
  {
   "cell_type": "code",
   "execution_count": null,
   "metadata": {},
   "outputs": [],
   "source": [
    "# LSTM_CNN_train_one_model.csv und LSTM_CNN_validation_one_model.csv müssen aus Tensorboard runtergeladen werden\n",
    "train = pd.read_csv(os.getcwd() + r\"\\Datengewinnung\\Trainingsdaten\\LSTM_CNN_train_one_model.csv')\n",
    "val = pd.read_csv(os.getcwd() + r\"\\Datengewinnung\\Trainingsdaten\\LSTM_CNN_validation_one_model.csv')\n",
    "\n",
    "# Vergleich Trainings- Validierungs Accuracy\n",
    "fig = go.Figure()\n",
    "fig.add_trace(go.Scatter(x=train['Step'], y=train['Value'],\n",
    "                    mode='lines',\n",
    "                    name='Training'))\n",
    "fig.update_yaxes(\n",
    "        title_text = \"Accuracy\")\n",
    "\n",
    "fig.update_xaxes(\n",
    "        title_text = \"Epochen\")\n",
    "\n",
    "\n",
    "fig.add_trace(go.Scatter(x=val['Step'], y=val['Value'],\n",
    "                    mode='lines',\n",
    "                    name='Validierung'))\n",
    "\n",
    "fig.show()\n",
    "fig.write_image(os.getcwd() + r\"\\Datengewinnung\\Trainingsdaten\\LSTM_CNN_training.png\")"
   ]
  },
  {
   "cell_type": "code",
   "execution_count": null,
   "metadata": {},
   "outputs": [],
   "source": []
  }
 ],
 "metadata": {
  "kernelspec": {
   "display_name": "Python 3",
   "language": "python",
   "name": "python3"
  },
  "language_info": {
   "codemirror_mode": {
    "name": "ipython",
    "version": 3
   },
   "file_extension": ".py",
   "mimetype": "text/x-python",
   "name": "python",
   "nbconvert_exporter": "python",
   "pygments_lexer": "ipython3",
   "version": "3.8.5"
  }
 },
 "nbformat": 4,
 "nbformat_minor": 4
}
