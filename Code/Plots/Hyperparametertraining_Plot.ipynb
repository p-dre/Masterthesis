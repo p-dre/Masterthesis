{
 "cells": [
  {
   "cell_type": "code",
   "execution_count": null,
   "metadata": {},
   "outputs": [],
   "source": [
    "import plotly.express as px \n",
    "import pandas as pd\n",
    "\n",
    "# working directory auf den Ordner Masterarbeit festlegen\n",
    "os.chdir(r'C:\\Users\\Paul\\Documents\\Uni\\Masterarbeit\\Final_Code\\Masterarbeit')\n",
    "\n",
    "# Daten des Hyperparametertrainings müssen aus Tensorborad exportiert werden"
   ]
  },
  {
   "cell_type": "code",
   "execution_count": null,
   "metadata": {},
   "outputs": [],
   "source": [
    "# Parallel Plot Hyperparametertraining LSTM\n",
    "hparams_table = pd.read_csv(os.getcwd() + r\"\\Datengewinnung\\LSTM_hyper.csv')\n",
    "hparams_table.columns = ['Anzahl LSTM Zellen', 'Lernrate', 'Batchgröße', 'Dropout', 'L2', 'Accuracy'] \n",
    "cols = ['Anzahl LSTM Zellen', 'Lernrate', 'Batchgröße', 'Dropout', 'L2', 'Accuracy']\n",
    "\n",
    "fig = px.parallel_coordinates(hparams_table , color=\"Accuracy\", dimensions=cols, color_continuous_scale=px.colors.diverging.RdYlBu) \n",
    "fig.show()"
   ]
  },
  {
   "cell_type": "code",
   "execution_count": null,
   "metadata": {},
   "outputs": [],
   "source": [
    "# Parallel Plot Hyperparametertraining CNN_LSTM\n",
    "hparams_table = pd.read_csv(os.getcwd() + r\"\\Datengewinnung\\CNN_LSTM_hyper.csv')\n",
    "hparams_table.columns = ['Anzahl Filter', 'Lernrate', 'Batchgröße', 'Dropout', 'L2','Anzahl LSTM Zellen' ,'Accuracy']\n",
    "cols = ['Anzahl Filter', 'Lernrate', 'Batchgröße', 'Dropout', 'L2','Anzahl LSTM Zellen' ,'Accuracy']\n",
    "\n",
    "fig = px.parallel_coordinates(hparams_table , color=\"Accuracy\", dimensions=cols,\n",
    "                              color_continuous_scale=px.colors.diverging.RdYlBu)\n",
    "fig.show()"
   ]
  },
  {
   "cell_type": "code",
   "execution_count": null,
   "metadata": {},
   "outputs": [],
   "source": [
    "# Parallel Plot Hyperparametertraining LSTM_CNN\n",
    "hparams_table = pd.read_csv(os.getcwd() + r\"\\Datengewinnung\\LSTM_CNN_hyper.csv')\n",
    "hparams_table.columns = ['Anzahl Filter', 'Lernrate', 'Batchgröße', 'Dropout', 'L2','Anzahl LSTM Zellen' ,'Accuracy']\n",
    "cols = ['Anzahl Filter', 'Lernrate', 'Batchgröße', 'Dropout', 'L2','Anzahl LSTM Zellen' ,'Accuracy']\n",
    "\n",
    "fig = px.parallel_coordinates(hparams_table , color=\"Accuracy\", dimensions=cols,\n",
    "                              color_continuous_scale=px.colors.diverging.RdYlBu)\n",
    "fig.show()"
   ]
  },
  {
   "cell_type": "code",
   "execution_count": null,
   "metadata": {},
   "outputs": [],
   "source": [
    "# Parallel Plot Hyperparametertraining CNN\n",
    "hparams_table = pd.read_csv(os.getcwd() + r\"\\Datengewinnung\\CNN_hyper.csv')\n",
    "hparams_table.columns = ['Anzahl Filter', 'Lernrate', 'Batchgröße', 'Dropout', 'L2' ,'Accuracy']\n",
    "cols = ['Anzahl Filter', 'Lernrate', 'Batchgröße', 'Dropout', 'L2' ,'Accuracy']\n",
    "\n",
    "fig = px.parallel_coordinates(hparams_table , color=\"Accuracy\", dimensions=cols,\n",
    "                              color_continuous_scale=px.colors.diverging.RdYlBu)\n",
    "fig.show()"
   ]
  }
 ],
 "metadata": {
  "kernelspec": {
   "display_name": "Python 3",
   "language": "python",
   "name": "python3"
  },
  "language_info": {
   "codemirror_mode": {
    "name": "ipython",
    "version": 3
   },
   "file_extension": ".py",
   "mimetype": "text/x-python",
   "name": "python",
   "nbconvert_exporter": "python",
   "pygments_lexer": "ipython3",
   "version": "3.8.5"
  }
 },
 "nbformat": 4,
 "nbformat_minor": 4
}
